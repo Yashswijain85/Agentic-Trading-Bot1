{
 "cells": [
  {
   "cell_type": "code",
   "execution_count": 3,
   "id": "3013a908",
   "metadata": {},
   "outputs": [],
   "source": [
    "import os\n",
    "import sys\n",
    "        "
   ]
  },
  {
   "cell_type": "code",
   "execution_count": 4,
   "id": "dd313dc2",
   "metadata": {},
   "outputs": [],
   "source": [
    "class TradingBotException(Exception):\n",
    "    def __init__(self):\n",
    "        print(\"this message from init\")\n",
    "        \n",
    "    def __str__(self):\n",
    "        print(\"this message from str\")\n",
    "        return \"\"\n",
    "        \n",
    "    def __repr__(self):\n",
    "        print(\"this message from repr\")\n",
    "        return \"\""
   ]
  },
  {
   "cell_type": "code",
   "execution_count": 5,
   "id": "f45a0799",
   "metadata": {},
   "outputs": [
    {
     "name": "stdout",
     "output_type": "stream",
     "text": [
      "this message from init\n"
     ]
    }
   ],
   "source": [
    "obj = TradingBotException()"
   ]
  },
  {
   "cell_type": "code",
   "execution_count": 6,
   "id": "f6ab1f26",
   "metadata": {},
   "outputs": [
    {
     "name": "stdout",
     "output_type": "stream",
     "text": [
      "this message from str\n",
      "\n"
     ]
    }
   ],
   "source": [
    "print(obj)"
   ]
  },
  {
   "cell_type": "code",
   "execution_count": 7,
   "id": "9b8e76e9",
   "metadata": {},
   "outputs": [
    {
     "name": "stdout",
     "output_type": "stream",
     "text": [
      "this message from repr\n"
     ]
    },
    {
     "data": {
      "text/plain": []
     },
     "execution_count": 7,
     "metadata": {},
     "output_type": "execute_result"
    }
   ],
   "source": [
    "obj"
   ]
  },
  {
   "cell_type": "code",
   "execution_count": 8,
   "id": "21b3d584",
   "metadata": {},
   "outputs": [],
   "source": [
    "class TradingBotException(Exception):\n",
    "    def __init__(self,error_message,error_details_using_sys:sys):\n",
    "        \n",
    "        self.error_message = error_message\n",
    "        _,_,exc_tb = error_details_using_sys.exc_info()\n",
    "        \n",
    "        self.lineno=exc_tb.tb_lineno\n",
    "        self.file_name=exc_tb.tb_frame.f_code.co_filename \n",
    "    \n",
    "    def __str__(self):\n",
    "        return \"Error occured in python script name [{0}] line number [{1}] error message [{2}]\".format(\n",
    "        self.file_name, self.lineno, str(self.error_message))\n"
   ]
  },
  {
   "cell_type": "code",
   "execution_count": null,
   "id": "01209f5a",
   "metadata": {},
   "outputs": [],
   "source": [
    "# try:\n",
    "#     a=1/0\n",
    "#     print(\"This will not be printed\",a)\n",
    "# except Exception as e:\n",
    "#     raise TradingBotException(e,sys) \n",
    "\n",
    "# This above code will use the format specified in the __str__() above in the TradingBotException : division by zero error "
   ]
  },
  {
   "cell_type": "code",
   "execution_count": 15,
   "id": "7d379ea0",
   "metadata": {},
   "outputs": [],
   "source": [
    "import logging\n",
    "import os\n",
    "from datetime import datetime"
   ]
  },
  {
   "cell_type": "code",
   "execution_count": 16,
   "id": "2b5284fe",
   "metadata": {},
   "outputs": [],
   "source": [
    "LOG_FILE = f\"{datetime.now().strftime('%m_%d_%Y_%H_%M_%S')}.log\""
   ]
  },
  {
   "cell_type": "code",
   "execution_count": 17,
   "id": "a9fa0118",
   "metadata": {},
   "outputs": [],
   "source": [
    "logs_path = os.path.join(os.getcwd(), \"logs\")"
   ]
  },
  {
   "cell_type": "code",
   "execution_count": 18,
   "id": "dec92f4e",
   "metadata": {},
   "outputs": [],
   "source": [
    "os.makedirs(logs_path, exist_ok=True)\n"
   ]
  },
  {
   "cell_type": "code",
   "execution_count": 19,
   "id": "88ee3ee0",
   "metadata": {},
   "outputs": [],
   "source": [
    "LOG_FILE_PATH = os.path.join(logs_path, LOG_FILE)"
   ]
  },
  {
   "cell_type": "code",
   "execution_count": 20,
   "id": "a0736829",
   "metadata": {},
   "outputs": [],
   "source": [
    "logger=logging.getLogger(\"my_agentic_app\")\n"
   ]
  },
  {
   "cell_type": "code",
   "execution_count": 21,
   "id": "7d6fd19f",
   "metadata": {},
   "outputs": [],
   "source": [
    "logging.basicConfig(\n",
    "    filename=LOG_FILE_PATH,\n",
    "    format=\"[ %(asctime)s ] %(lineno)d %(name)s - %(levelname)s - %(message)s\",\n",
    "    level=logging.INFO,\n",
    ")\n"
   ]
  },
  {
   "cell_type": "code",
   "execution_count": 22,
   "metadata": {},
   "outputs": [],
   "source": [
    "logger.info(\"this is my testing message\")\n"
   ]
  },
  {
   "cell_type": "code",
   "execution_count": 23,
   "metadata": {},
   "outputs": [],
   "source": [
    "logger.info(\"This is my final year\")"
   ]
  },
  {
   "cell_type": "code",
   "execution_count": 24,
   "metadata": {},
   "outputs": [],
   "source": [
    "logger.info(\"I have completed my graduation now and now I am graduated\")"
   ]
  },
  {
   "cell_type": "code",
   "execution_count": null,
   "metadata": {},
   "outputs": [],
   "source": []
  },
  {
   "cell_type": "code",
   "execution_count": null,
   "metadata": {},
   "outputs": [],
   "source": []
  },
  {
   "cell_type": "code",
   "execution_count": null,
   "id": "b2debc23",
   "metadata": {},
   "outputs": [],
   "source": []
  }
 ],
 "metadata": {
  "kernelspec": {
   "display_name": "env",
   "language": "python",
   "name": "python3"
  },
  "language_info": {
   "codemirror_mode": {
    "name": "ipython",
    "version": 3
   },
   "file_extension": ".py",
   "mimetype": "text/x-python",
   "name": "python",
   "nbconvert_exporter": "python",
   "pygments_lexer": "ipython3",
   "version": "3.10.16"
  }
 },
 "nbformat": 4,
 "nbformat_minor": 5
}
